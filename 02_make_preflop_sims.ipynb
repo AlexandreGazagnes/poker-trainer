{
 "cells": [
  {
   "source": [
    "## 1.2 Imports "
   ],
   "cell_type": "markdown",
   "metadata": {}
  },
  {
   "cell_type": "code",
   "execution_count": 1,
   "metadata": {},
   "outputs": [],
   "source": [
    "import pandas as pd\n",
    "import numpy as np  \n",
    "from itertools import product, combinations, permutations\n",
    "from IPython.display import display\n",
    "import random\n",
    "\n",
    "from src.game import *\n",
    "from src.data import *\n",
    "from src.utils import *\n",
    "from src.cards import *\n",
    "from src.hands import *\n",
    "from src.translate import * "
   ]
  },
  {
   "source": [
    "## 1.3 Data cards"
   ],
   "cell_type": "markdown",
   "metadata": {}
  },
  {
   "cell_type": "code",
   "execution_count": 2,
   "metadata": {},
   "outputs": [
    {
     "output_type": "stream",
     "name": "stdout",
     "text": [
      "{'2': 2, '3': 3, '4': 4, '5': 5, '6': 6, '7': 7, '8': 8, '9': 9, 't': 10, 'j': 11, 'q': 12, 'k': 13, 'a': 14}\n"
     ]
    }
   ],
   "source": [
    "\n",
    "print(hight_dict)"
   ]
  },
  {
   "cell_type": "code",
   "execution_count": 3,
   "metadata": {},
   "outputs": [
    {
     "output_type": "execute_result",
     "data": {
      "text/plain": [
       "('tr', 'pi', 'ca', 'co')"
      ]
     },
     "metadata": {},
     "execution_count": 3
    }
   ],
   "source": [
    "color_list"
   ]
  },
  {
   "cell_type": "code",
   "execution_count": 4,
   "metadata": {},
   "outputs": [
    {
     "output_type": "stream",
     "name": "stdout",
     "text": [
      "['2tr', '2pi', '2ca', '2co', '3tr', '3pi', '3ca', '3co', '4tr', '4pi', '4ca', '4co', '5tr', '5pi', '5ca', '5co', '6tr', '6pi', '6ca', '6co', '7tr', '7pi', '7ca', '7co', '8tr', '8pi', '8ca', '8co', '9tr', '9pi', '9ca', '9co', 'ttr', 'tpi', 'tca', 'tco', 'jtr', 'jpi', 'jca', 'jco', 'qtr', 'qpi', 'qca', 'qco', 'ktr', 'kpi', 'kca', 'kco', 'atr', 'api', 'aca', 'aco']\n"
     ]
    }
   ],
   "source": [
    "print(card_list )"
   ]
  },
  {
   "cell_type": "code",
   "execution_count": 5,
   "metadata": {},
   "outputs": [
    {
     "output_type": "execute_result",
     "data": {
      "text/plain": [
       "52"
      ]
     },
     "metadata": {},
     "execution_count": 5
    }
   ],
   "source": [
    "len(card_list)"
   ]
  },
  {
   "cell_type": "code",
   "execution_count": 6,
   "metadata": {},
   "outputs": [
    {
     "output_type": "execute_result",
     "data": {
      "text/plain": [
       "['22', '33', '44', '55', '66', '77', '88', '99', 'tt', 'jj', 'qq', 'kk', 'aa']"
      ]
     },
     "metadata": {},
     "execution_count": 6
    }
   ],
   "source": [
    "pair_list"
   ]
  },
  {
   "cell_type": "code",
   "execution_count": 7,
   "metadata": {},
   "outputs": [
    {
     "output_type": "stream",
     "name": "stdout",
     "text": [
      "[('2tr', '2pi'), ('2tr', '2ca'), ('2tr', '2co'), ('2pi', '2tr'), ('2pi', '2ca'), ('2pi', '2co'), ('2ca', '2tr'), ('2ca', '2pi'), ('2ca', '2co'), ('2co', '2tr'), ('2co', '2pi'), ('2co', '2ca')]\n"
     ]
    }
   ],
   "source": [
    "print(pair_dict[\"22\"])"
   ]
  },
  {
   "cell_type": "code",
   "execution_count": 8,
   "metadata": {},
   "outputs": [
    {
     "output_type": "stream",
     "name": "stdout",
     "text": [
      "['32s', '42s', '52s', '62s', '72s', '82s', '92s', 't2s', 'j2s', 'q2s', 'k2s', 'a2s', '32s', '43s', '53s', '63s', '73s', '83s', '93s', 't3s', 'j3s', 'q3s', 'k3s', 'a3s', '42s', '43s', '54s', '64s', '74s', '84s', '94s', 't4s', 'j4s', 'q4s', 'k4s', 'a4s', '52s', '53s', '54s', '65s', '75s', '85s', '95s', 't5s', 'j5s', 'q5s', 'k5s', 'a5s', '62s', '63s', '64s', '65s', '76s', '86s', '96s', 't6s', 'j6s', 'q6s', 'k6s', 'a6s', '72s', '73s', '74s', '75s', '76s', '87s', '97s', 't7s', 'j7s', 'q7s', 'k7s', 'a7s', '82s', '83s', '84s', '85s', '86s', '87s', '98s', 't8s', 'j8s', 'q8s', 'k8s', 'a8s', '92s', '93s', '94s', '95s', '96s', '97s', '98s', 't9s', 'j9s', 'q9s', 'k9s', 'a9s', 't2s', 't3s', 't4s', 't5s', 't6s', 't7s', 't8s', 't9s', 'jts', 'qts', 'kts', 'ats', 'j2s', 'j3s', 'j4s', 'j5s', 'j6s', 'j7s', 'j8s', 'j9s', 'jts', 'qjs', 'kjs', 'ajs', 'q2s', 'q3s', 'q4s', 'q5s', 'q6s', 'q7s', 'q8s', 'q9s', 'qts', 'qjs', 'kqs', 'aqs', 'k2s', 'k3s', 'k4s', 'k5s', 'k6s', 'k7s', 'k8s', 'k9s', 'kts', 'kjs', 'kqs', 'aks', 'a2s', 'a3s', 'a4s', 'a5s', 'a6s', 'a7s', 'a8s', 'a9s', 'ats', 'ajs', 'aqs', 'aks']\n"
     ]
    }
   ],
   "source": [
    "print(suited_list)"
   ]
  },
  {
   "cell_type": "code",
   "execution_count": 9,
   "metadata": {},
   "outputs": [
    {
     "output_type": "stream",
     "name": "stdout",
     "text": [
      "[('3tr', '2tr'), ('3pi', '2pi'), ('3ca', '2ca'), ('3co', '2co')]\n"
     ]
    }
   ],
   "source": [
    "print(suited_dict[\"32s\"])"
   ]
  },
  {
   "cell_type": "code",
   "execution_count": 10,
   "metadata": {},
   "outputs": [
    {
     "output_type": "stream",
     "name": "stdout",
     "text": [
      "['32o', '42o', '52o', '62o', '72o', '82o', '92o', 't2o', 'j2o', 'q2o', 'k2o', 'a2o', '32o', '43o', '53o', '63o', '73o', '83o', '93o', 't3o', 'j3o', 'q3o', 'k3o', 'a3o', '42o', '43o', '54o', '64o', '74o', '84o', '94o', 't4o', 'j4o', 'q4o', 'k4o', 'a4o', '52o', '53o', '54o', '65o', '75o', '85o', '95o', 't5o', 'j5o', 'q5o', 'k5o', 'a5o', '62o', '63o', '64o', '65o', '76o', '86o', '96o', 't6o', 'j6o', 'q6o', 'k6o', 'a6o', '72o', '73o', '74o', '75o', '76o', '87o', '97o', 't7o', 'j7o', 'q7o', 'k7o', 'a7o', '82o', '83o', '84o', '85o', '86o', '87o', '98o', 't8o', 'j8o', 'q8o', 'k8o', 'a8o', '92o', '93o', '94o', '95o', '96o', '97o', '98o', 't9o', 'j9o', 'q9o', 'k9o', 'a9o', 't2o', 't3o', 't4o', 't5o', 't6o', 't7o', 't8o', 't9o', 'jto', 'qto', 'kto', 'ato', 'j2o', 'j3o', 'j4o', 'j5o', 'j6o', 'j7o', 'j8o', 'j9o', 'jto', 'qjo', 'kjo', 'ajo', 'q2o', 'q3o', 'q4o', 'q5o', 'q6o', 'q7o', 'q8o', 'q9o', 'qto', 'qjo', 'kqo', 'aqo', 'k2o', 'k3o', 'k4o', 'k5o', 'k6o', 'k7o', 'k8o', 'k9o', 'kto', 'kjo', 'kqo', 'ako', 'a2o', 'a3o', 'a4o', 'a5o', 'a6o', 'a7o', 'a8o', 'a9o', 'ato', 'ajo', 'aqo', 'ako']\n"
     ]
    }
   ],
   "source": [
    "print(offsuit_list)"
   ]
  },
  {
   "cell_type": "code",
   "execution_count": 11,
   "metadata": {
    "tags": []
   },
   "outputs": [
    {
     "output_type": "stream",
     "name": "stdout",
     "text": [
      "[('3tr', '2pi'), ('3tr', '2ca'), ('3tr', '2co'), ('3pi', '2tr'), ('3pi', '2ca'), ('3pi', '2co'), ('3ca', '2tr'), ('3ca', '2pi'), ('3ca', '2co'), ('3co', '2tr'), ('3co', '2pi'), ('3co', '2ca'), ('2tr', '3pi'), ('2tr', '3ca'), ('2tr', '3co'), ('2pi', '3tr'), ('2pi', '3ca'), ('2pi', '3co'), ('2ca', '3tr'), ('2ca', '3pi'), ('2ca', '3co'), ('2co', '3tr'), ('2co', '3pi'), ('2co', '3ca')]\n"
     ]
    }
   ],
   "source": [
    "print(offsuit_dict[\"32o\"])"
   ]
  },
  {
   "cell_type": "code",
   "execution_count": 12,
   "metadata": {},
   "outputs": [
    {
     "output_type": "execute_result",
     "data": {
      "text/plain": [
       "325"
      ]
     },
     "metadata": {},
     "execution_count": 12
    }
   ],
   "source": [
    "all_hands = offsuit_list + suited_list + pair_list\n",
    "len(all_hands)"
   ]
  },
  {
   "cell_type": "code",
   "execution_count": 13,
   "metadata": {},
   "outputs": [
    {
     "output_type": "execute_result",
     "data": {
      "text/plain": [
       "['77', '88', '99', 'tt', 'jj', 'qq', 'kk', 'aa']"
      ]
     },
     "metadata": {},
     "execution_count": 13
    }
   ],
   "source": [
    " make_pair_plus(\"77+\")"
   ]
  },
  {
   "cell_type": "code",
   "execution_count": 14,
   "metadata": {},
   "outputs": [
    {
     "output_type": "execute_result",
     "data": {
      "text/plain": [
       "['a9o', 'ato', 'ajo', 'aqo', 'ako', 'aao']"
      ]
     },
     "metadata": {},
     "execution_count": 14
    }
   ],
   "source": [
    "make_just_plus(\"a9o+\")"
   ]
  },
  {
   "source": [
    "## 1.4 Data Frame"
   ],
   "cell_type": "markdown",
   "metadata": {}
  },
  {
   "cell_type": "code",
   "execution_count": 15,
   "metadata": {},
   "outputs": [],
   "source": [
    "dest = \"./data/cleaned/\"\n",
    "\n",
    "fn = \"0-antes.csv\""
   ]
  },
  {
   "cell_type": "code",
   "execution_count": 16,
   "metadata": {},
   "outputs": [
    {
     "output_type": "execute_result",
     "data": {
      "text/plain": [
       "   BB                                                 sb  \\\n",
       "0   1                                                2x+   \n",
       "1   2     22+,8x+,72s+,73o+,62s+,63o+,52s+,53o+,42s+,32s   \n",
       "2   3  22+,tx+,92s+,93o+,82s+,84o+,73s+,75o+,63s+,65o...   \n",
       "3   4  22+,jx+,t2s+,t3o+,92s+,95o+,83s+,85o+,74s+,76o...   \n",
       "4   5  22+,jx+,t2s+,t5o+,93s+,96o+,84s+,86o+,74s+,76o...   \n",
       "5   6  22+,qx+,j2s+,j4o+,t2s+,t6o+,94s+,97o+,84s+,86o...   \n",
       "6   7  22+,qx+,j2s+,j6o+,t3s+,t7o+,95s+,97o+,84s+,87o...   \n",
       "7   8  22+,kx+,q2s+,q3o+,j2s+,j7o+,t4s+,t7o+,95s+,97o...   \n",
       "8   9  22+,kx+,q2s+,q5o+,j2s+,j8o+,t5s+,t8o+,95s+,97o...   \n",
       "9  10  22+,kx+,q2s+,q7o+,j3s+,j8o+,t5s+,t8o+,95s+,97o...   \n",
       "\n",
       "                                              button  \\\n",
       "0  22+,jx+,t2s+,t4o+,92s+,95o+,84s+,85o+,74s+,76o...   \n",
       "1     22+,kx+,q2s+,q6o+,j5s+,j8o+,t6s+,t8o+,97s+,87s   \n",
       "2  22+,ax+,k2s+,k3o+,q3s+,q8o+,j6s+,j8o+,t7s+,t9o...   \n",
       "3     22+,ax+,k2s+,k4o+,q5s+,q8o+,j7s+,j9o+,t8s+,98s   \n",
       "4  22+,ax+,k2s+,k5o+,q6s+,q9o+,j8s+,jto,t8s+,97s+...   \n",
       "5  22+,ax+,k2s+,k7o+,q6s+,q9o+,j8s+,jto,t7s+,97s+...   \n",
       "6  22+,ax+,k2s+,k8o+,q6s+,qto+,j7s+,jto,t7s+,97s+...   \n",
       "7  22+,ax+,k3s+,k9o+,q8s+,qto+,j7s+,jto,t7s+,t9o,...   \n",
       "8  22+,ax+,k5s+,k9o+,q8s+,qto+,j8s+,jto,t7s+,97s+...   \n",
       "9  22+,ax+,k6s+,kto+,q8s+,qto+,j8s+,jto,t8s+,97s+...   \n",
       "\n",
       "                                              cutoff  \\\n",
       "0  22+,qx+,j2s+,j3o+,t2s+,t5o+,92s+,95o+,83s+,85o...   \n",
       "1  22+,ax+,k2s+,k4o+,q3s+,q8o+,j5s+,j8o+,t6s+,t9o...   \n",
       "2     22+,ax+,k3s+,k6o+,q6s+,q9o+,j8s+,j9o+,t8s+,98s   \n",
       "3           22+,ax+,k4s+,k8o+,q8s+,q9o+,j9s+,jto,t9s   \n",
       "4  22+,ax+,k3s+,k9o+,q8s+,qto+,j8s+,jto,t8s+,98s,87s   \n",
       "5  22+,ax+,k5s+,k9o+,q8s+,qto+,j8s+,jto,t8s+,97s+...   \n",
       "6      22+,ax+,k6s+,kto+,q9s+,qto+,j8s+,t8s+,98s,87s   \n",
       "7       22+,ax+,k8s+,kto+,q9s+,qjo,j9s+,t8s+,98s,87s   \n",
       "8  22+,a2s+,a3o+,k9s+,kto+,q9s+,qjo,j8s+,jto,t8s+...   \n",
       "9  22+,a2s+,a7o+,a5o,k7s+,kto+,q8s+,qto+,j8s+,jto...   \n",
       "\n",
       "                                              hijack  \\\n",
       "0  22+,qx+,j2s+,j3o+,t2s+,t5o+,92s+,95o+,82s+,85o...   \n",
       "1  22+,ax+,k2s+,k5o+,q4s+,q8o+,j7s+,j9o+,t7s+,t9o...   \n",
       "2          22+,ax+,k4s+,k9o+,q8s+,q9o+,j8s+,jto,t8s+   \n",
       "3           22+,ax+,k4s+,k8o+,q8s+,qto+,j8s+,jto,t9s   \n",
       "4          22+,ax+,k6s+,k9o+,q9s+,qto+,j9s+,t8s+,98s   \n",
       "5     22+,a2s+,a3o+,k8s+,kto+,q9s+,qjo,j9s+,t8s+,98s   \n",
       "6  22+,a2s+,a7o+,a5o,k7s+,kto+,q9s+,qjo,j8s+,jto,...   \n",
       "7  22+,a2s+,a8o+,k9s+,kto+,q9s+,qjo,j8s+,jto,t8s+...   \n",
       "8     22+,a2s+,a9o+,k8s+,kjo+,q9s+,qjo,j9s+,t8s+,98s   \n",
       "9  22+,a7s+,a5s-a3s,ato+,k8s+,kjo+,q8s+,qjo,j8s+,...   \n",
       "\n",
       "                                            button-3  \\\n",
       "0  22+,qx+,j2s+,j3o+,t2s+,t6o+,92s+,96o+,82s+,85o...   \n",
       "1  22+,ax+,k2s+,k7o+,q5s+,q9o+,j7s+,j9o+,t7s+,97s...   \n",
       "2           22+,ax+,k4s+,k9o+,q8s+,qto+,j8s+,jto,t9s   \n",
       "3         22+,a2s+,a3o+,k6s+,k9o+,q8s+,qto+,j9s+,t9s   \n",
       "4     22+,a2s+,a4o+,k7s+,kto+,q9s+,qjo,j9s+,t8s+,98s   \n",
       "5  22+,a2s+,a8o+,k7s+,kto+,q9s+,qjo,j8s+,jto,t8s+...   \n",
       "6     22+,a2s+,a9o+,k9s+,kjo+,q9s+,qjo,j8s+,t8s+,98s   \n",
       "7     22+,a2s+,ato+,k8s+,kjo+,q9s+,qjo,j9s+,t8s+,98s   \n",
       "8  22+,a8s+,a5s-a4s,ato+,k9s+,kjo+,q9s+,qjo,j9s+,t9s   \n",
       "9       22+,a8s+,a5s-a4s,ato+,k9s+,kqo,q9s+,j9s+,t9s   \n",
       "\n",
       "                                            button-4  \\\n",
       "0  22+,kx+,q2s+,q3o+,j2s+,j5o+,t2s+,t6o+,92s+,96o...   \n",
       "1      22+,ax+,k3s+,k9o+,q7s+,qto+,j8s+,jto,t8s+,98s   \n",
       "2     22+,a2s+,a3o+,k5s+,k9o+,q8s+,qto+,j8s+,jto,t9s   \n",
       "3          22+,a2s+,a4o+,k7s+,kto+,q9s+,qjo,j9s+,t9s   \n",
       "4      22+,a2s+,a8o+,k7s+,kto+,q9s+,qjo,j9s+,t9s,98s   \n",
       "5          22+,a2s+,a9o+,k9s+,kjo+,q9s+,qjo,j9s+,t9s   \n",
       "6  22+,a7s+,a5s-a3s,ato+,k9s+,kjo+,q9s+,qjo,j9s+,t9s   \n",
       "7       22+,a8s+,a5s-a4s,ato+,k9s+,kqo,q9s+,j9s+,t9s   \n",
       "8            22+,a9s+,a5s,ato+,k9s+,kqo,qts+,jts,t9s   \n",
       "9           33+,a9s+,a5s,ajo+,k9s+,kqo,qts+,j9s+,t9s   \n",
       "\n",
       "                                            button-5  \\\n",
       "0  22+,kx+,q2s+,q3o+,j2s+,j6o+,t2s+,t6o+,92s+,96o...   \n",
       "1      22+,ax+,k3s+,k9o+,q7s+,qto+,j8s+,jto,t8s+,98s   \n",
       "2     22+,a2s+,a7o+,a5o,k6s+,kto+,q9s+,qto+,j9s+,t9s   \n",
       "3      22+,a2s+,a7o+,a5o,k7s+,kto+,q9s+,qjo,j9s+,t9s   \n",
       "4          22+,a2s+,a9o+,k9s+,kjo+,q9s+,qjo,j9s+,t9s   \n",
       "5  22+,a7s+,a5s-a3s,ato+,k9s+,kjo+,q9s+,qjo,j9s+,t9s   \n",
       "6           22+,a8s+,a5s,ato+,k9s+,kqo,q9s+,j9s+,t9s   \n",
       "7                    33+,a9s+,ato+,k9s+,kqo,qts+,jts   \n",
       "8                55+,a9s+,a5s,ajo+,k9s+,kqo,qts+,jts   \n",
       "9                        55+,ats+,ajo+,kts+,qts+,jts   \n",
       "\n",
       "                                            button-6  \n",
       "0  22+,kx+,q2s+,q4o+,j2s+,j7o+,t2s+,t7o+,93s+,97o...  \n",
       "1  22+,a2s+,a3o+,k4s+,k9o+,q8s+,qto+,j8s+,jto,t8s...  \n",
       "2         22+,a2s+,a7o+,k6s+,kto+,q9s+,qto+,j9s+,t9s  \n",
       "3               22+,a2s+,a8o+,k9s+,kto+,q9s+,jts,t9s  \n",
       "4              22+,a3s+,ato+,k9s+,kjo+,q9s+,j9s+,t9s  \n",
       "5        22+,a8s+,a5s-a4s,ato+,k9s+,kqo,q9s+,jts,t9s  \n",
       "6            33+,a8s+,a5s,ajo+,k9s+,kqo,qts+,jts,t9s  \n",
       "7                        55+,ats+,ajo+,kts+,qts+,jts  \n",
       "8                88+,a9s+,a5s,ajo+,kts+,kqo,qts+,jts  \n",
       "9                    99+,a9s+,a5s,ajo+,kts+,qts+,jts  "
      ],
      "text/html": "<div>\n<style scoped>\n    .dataframe tbody tr th:only-of-type {\n        vertical-align: middle;\n    }\n\n    .dataframe tbody tr th {\n        vertical-align: top;\n    }\n\n    .dataframe thead th {\n        text-align: right;\n    }\n</style>\n<table border=\"1\" class=\"dataframe\">\n  <thead>\n    <tr style=\"text-align: right;\">\n      <th></th>\n      <th>BB</th>\n      <th>sb</th>\n      <th>button</th>\n      <th>cutoff</th>\n      <th>hijack</th>\n      <th>button-3</th>\n      <th>button-4</th>\n      <th>button-5</th>\n      <th>button-6</th>\n    </tr>\n  </thead>\n  <tbody>\n    <tr>\n      <th>0</th>\n      <td>1</td>\n      <td>2x+</td>\n      <td>22+,jx+,t2s+,t4o+,92s+,95o+,84s+,85o+,74s+,76o...</td>\n      <td>22+,qx+,j2s+,j3o+,t2s+,t5o+,92s+,95o+,83s+,85o...</td>\n      <td>22+,qx+,j2s+,j3o+,t2s+,t5o+,92s+,95o+,82s+,85o...</td>\n      <td>22+,qx+,j2s+,j3o+,t2s+,t6o+,92s+,96o+,82s+,85o...</td>\n      <td>22+,kx+,q2s+,q3o+,j2s+,j5o+,t2s+,t6o+,92s+,96o...</td>\n      <td>22+,kx+,q2s+,q3o+,j2s+,j6o+,t2s+,t6o+,92s+,96o...</td>\n      <td>22+,kx+,q2s+,q4o+,j2s+,j7o+,t2s+,t7o+,93s+,97o...</td>\n    </tr>\n    <tr>\n      <th>1</th>\n      <td>2</td>\n      <td>22+,8x+,72s+,73o+,62s+,63o+,52s+,53o+,42s+,32s</td>\n      <td>22+,kx+,q2s+,q6o+,j5s+,j8o+,t6s+,t8o+,97s+,87s</td>\n      <td>22+,ax+,k2s+,k4o+,q3s+,q8o+,j5s+,j8o+,t6s+,t9o...</td>\n      <td>22+,ax+,k2s+,k5o+,q4s+,q8o+,j7s+,j9o+,t7s+,t9o...</td>\n      <td>22+,ax+,k2s+,k7o+,q5s+,q9o+,j7s+,j9o+,t7s+,97s...</td>\n      <td>22+,ax+,k3s+,k9o+,q7s+,qto+,j8s+,jto,t8s+,98s</td>\n      <td>22+,ax+,k3s+,k9o+,q7s+,qto+,j8s+,jto,t8s+,98s</td>\n      <td>22+,a2s+,a3o+,k4s+,k9o+,q8s+,qto+,j8s+,jto,t8s...</td>\n    </tr>\n    <tr>\n      <th>2</th>\n      <td>3</td>\n      <td>22+,tx+,92s+,93o+,82s+,84o+,73s+,75o+,63s+,65o...</td>\n      <td>22+,ax+,k2s+,k3o+,q3s+,q8o+,j6s+,j8o+,t7s+,t9o...</td>\n      <td>22+,ax+,k3s+,k6o+,q6s+,q9o+,j8s+,j9o+,t8s+,98s</td>\n      <td>22+,ax+,k4s+,k9o+,q8s+,q9o+,j8s+,jto,t8s+</td>\n      <td>22+,ax+,k4s+,k9o+,q8s+,qto+,j8s+,jto,t9s</td>\n      <td>22+,a2s+,a3o+,k5s+,k9o+,q8s+,qto+,j8s+,jto,t9s</td>\n      <td>22+,a2s+,a7o+,a5o,k6s+,kto+,q9s+,qto+,j9s+,t9s</td>\n      <td>22+,a2s+,a7o+,k6s+,kto+,q9s+,qto+,j9s+,t9s</td>\n    </tr>\n    <tr>\n      <th>3</th>\n      <td>4</td>\n      <td>22+,jx+,t2s+,t3o+,92s+,95o+,83s+,85o+,74s+,76o...</td>\n      <td>22+,ax+,k2s+,k4o+,q5s+,q8o+,j7s+,j9o+,t8s+,98s</td>\n      <td>22+,ax+,k4s+,k8o+,q8s+,q9o+,j9s+,jto,t9s</td>\n      <td>22+,ax+,k4s+,k8o+,q8s+,qto+,j8s+,jto,t9s</td>\n      <td>22+,a2s+,a3o+,k6s+,k9o+,q8s+,qto+,j9s+,t9s</td>\n      <td>22+,a2s+,a4o+,k7s+,kto+,q9s+,qjo,j9s+,t9s</td>\n      <td>22+,a2s+,a7o+,a5o,k7s+,kto+,q9s+,qjo,j9s+,t9s</td>\n      <td>22+,a2s+,a8o+,k9s+,kto+,q9s+,jts,t9s</td>\n    </tr>\n    <tr>\n      <th>4</th>\n      <td>5</td>\n      <td>22+,jx+,t2s+,t5o+,93s+,96o+,84s+,86o+,74s+,76o...</td>\n      <td>22+,ax+,k2s+,k5o+,q6s+,q9o+,j8s+,jto,t8s+,97s+...</td>\n      <td>22+,ax+,k3s+,k9o+,q8s+,qto+,j8s+,jto,t8s+,98s,87s</td>\n      <td>22+,ax+,k6s+,k9o+,q9s+,qto+,j9s+,t8s+,98s</td>\n      <td>22+,a2s+,a4o+,k7s+,kto+,q9s+,qjo,j9s+,t8s+,98s</td>\n      <td>22+,a2s+,a8o+,k7s+,kto+,q9s+,qjo,j9s+,t9s,98s</td>\n      <td>22+,a2s+,a9o+,k9s+,kjo+,q9s+,qjo,j9s+,t9s</td>\n      <td>22+,a3s+,ato+,k9s+,kjo+,q9s+,j9s+,t9s</td>\n    </tr>\n    <tr>\n      <th>5</th>\n      <td>6</td>\n      <td>22+,qx+,j2s+,j4o+,t2s+,t6o+,94s+,97o+,84s+,86o...</td>\n      <td>22+,ax+,k2s+,k7o+,q6s+,q9o+,j8s+,jto,t7s+,97s+...</td>\n      <td>22+,ax+,k5s+,k9o+,q8s+,qto+,j8s+,jto,t8s+,97s+...</td>\n      <td>22+,a2s+,a3o+,k8s+,kto+,q9s+,qjo,j9s+,t8s+,98s</td>\n      <td>22+,a2s+,a8o+,k7s+,kto+,q9s+,qjo,j8s+,jto,t8s+...</td>\n      <td>22+,a2s+,a9o+,k9s+,kjo+,q9s+,qjo,j9s+,t9s</td>\n      <td>22+,a7s+,a5s-a3s,ato+,k9s+,kjo+,q9s+,qjo,j9s+,t9s</td>\n      <td>22+,a8s+,a5s-a4s,ato+,k9s+,kqo,q9s+,jts,t9s</td>\n    </tr>\n    <tr>\n      <th>6</th>\n      <td>7</td>\n      <td>22+,qx+,j2s+,j6o+,t3s+,t7o+,95s+,97o+,84s+,87o...</td>\n      <td>22+,ax+,k2s+,k8o+,q6s+,qto+,j7s+,jto,t7s+,97s+...</td>\n      <td>22+,ax+,k6s+,kto+,q9s+,qto+,j8s+,t8s+,98s,87s</td>\n      <td>22+,a2s+,a7o+,a5o,k7s+,kto+,q9s+,qjo,j8s+,jto,...</td>\n      <td>22+,a2s+,a9o+,k9s+,kjo+,q9s+,qjo,j8s+,t8s+,98s</td>\n      <td>22+,a7s+,a5s-a3s,ato+,k9s+,kjo+,q9s+,qjo,j9s+,t9s</td>\n      <td>22+,a8s+,a5s,ato+,k9s+,kqo,q9s+,j9s+,t9s</td>\n      <td>33+,a8s+,a5s,ajo+,k9s+,kqo,qts+,jts,t9s</td>\n    </tr>\n    <tr>\n      <th>7</th>\n      <td>8</td>\n      <td>22+,kx+,q2s+,q3o+,j2s+,j7o+,t4s+,t7o+,95s+,97o...</td>\n      <td>22+,ax+,k3s+,k9o+,q8s+,qto+,j7s+,jto,t7s+,t9o,...</td>\n      <td>22+,ax+,k8s+,kto+,q9s+,qjo,j9s+,t8s+,98s,87s</td>\n      <td>22+,a2s+,a8o+,k9s+,kto+,q9s+,qjo,j8s+,jto,t8s+...</td>\n      <td>22+,a2s+,ato+,k8s+,kjo+,q9s+,qjo,j9s+,t8s+,98s</td>\n      <td>22+,a8s+,a5s-a4s,ato+,k9s+,kqo,q9s+,j9s+,t9s</td>\n      <td>33+,a9s+,ato+,k9s+,kqo,qts+,jts</td>\n      <td>55+,ats+,ajo+,kts+,qts+,jts</td>\n    </tr>\n    <tr>\n      <th>8</th>\n      <td>9</td>\n      <td>22+,kx+,q2s+,q5o+,j2s+,j8o+,t5s+,t8o+,95s+,97o...</td>\n      <td>22+,ax+,k5s+,k9o+,q8s+,qto+,j8s+,jto,t7s+,97s+...</td>\n      <td>22+,a2s+,a3o+,k9s+,kto+,q9s+,qjo,j8s+,jto,t8s+...</td>\n      <td>22+,a2s+,a9o+,k8s+,kjo+,q9s+,qjo,j9s+,t8s+,98s</td>\n      <td>22+,a8s+,a5s-a4s,ato+,k9s+,kjo+,q9s+,qjo,j9s+,t9s</td>\n      <td>22+,a9s+,a5s,ato+,k9s+,kqo,qts+,jts,t9s</td>\n      <td>55+,a9s+,a5s,ajo+,k9s+,kqo,qts+,jts</td>\n      <td>88+,a9s+,a5s,ajo+,kts+,kqo,qts+,jts</td>\n    </tr>\n    <tr>\n      <th>9</th>\n      <td>10</td>\n      <td>22+,kx+,q2s+,q7o+,j3s+,j8o+,t5s+,t8o+,95s+,97o...</td>\n      <td>22+,ax+,k6s+,kto+,q8s+,qto+,j8s+,jto,t8s+,97s+...</td>\n      <td>22+,a2s+,a7o+,a5o,k7s+,kto+,q8s+,qto+,j8s+,jto...</td>\n      <td>22+,a7s+,a5s-a3s,ato+,k8s+,kjo+,q8s+,qjo,j8s+,...</td>\n      <td>22+,a8s+,a5s-a4s,ato+,k9s+,kqo,q9s+,j9s+,t9s</td>\n      <td>33+,a9s+,a5s,ajo+,k9s+,kqo,qts+,j9s+,t9s</td>\n      <td>55+,ats+,ajo+,kts+,qts+,jts</td>\n      <td>99+,a9s+,a5s,ajo+,kts+,qts+,jts</td>\n    </tr>\n  </tbody>\n</table>\n</div>"
     },
     "metadata": {},
     "execution_count": 16
    }
   ],
   "source": [
    "df = pd.read_csv(dest+fn)\n",
    "df"
   ]
  },
  {
   "source": [
    "\n",
    "# GAME"
   ],
   "cell_type": "markdown",
   "metadata": {}
  },
  {
   "cell_type": "code",
   "execution_count": 17,
   "metadata": {},
   "outputs": [
    {
     "output_type": "display_data",
     "data": {
      "text/plain": "['ktr', '5ca']"
     },
     "metadata": {}
    },
    {
     "output_type": "display_data",
     "data": {
      "text/plain": "'k5o'"
     },
     "metadata": {}
    }
   ],
   "source": [
    "hand = pickup()\n",
    "display(hand)\n",
    "hand = translate_hand(hand)\n",
    "display(hand)"
   ]
  },
  {
   "cell_type": "code",
   "execution_count": 18,
   "metadata": {},
   "outputs": [
    {
     "output_type": "execute_result",
     "data": {
      "text/plain": [
       "['BB',\n",
       " 'sb',\n",
       " 'button',\n",
       " 'cutoff',\n",
       " 'hijack',\n",
       " 'button-3',\n",
       " 'button-4',\n",
       " 'button-5',\n",
       " 'button-6']"
      ]
     },
     "metadata": {},
     "execution_count": 18
    }
   ],
   "source": [
    "list(df.columns)"
   ]
  },
  {
   "cell_type": "code",
   "execution_count": 19,
   "metadata": {},
   "outputs": [
    {
     "output_type": "stream",
     "name": "stdout",
     "text": [
      "['22+', 'kx+', 'q2s+', 'q7o+', 'j3s+', 'j8o+', 't5s+', 't8o+', '95s+', '97o+', '85s+', '87o', '74s+', '64s+', '53s+']\n15\n['22', '33', '44', '55', '66', '77', '88', '99', 'tt', 'jj', 'qq', 'kk', 'aa', 'k2o', 'k3o', 'k4o', 'k5o', 'k6o', 'k7o', 'k8o', 'k9o', 'kto', 'kjo', 'kqo', 'kko', 'kao', 'k2s', 'k3s', 'k4s', 'k5s', 'k6s', 'k7s', 'k8s', 'k9s', 'kts', 'kjs', 'kqs', 'kks', 'kas', 'q2s', 'q3s', 'q4s', 'q5s', 'q6s', 'q7s', 'q8s', 'q9s', 'qts', 'qjs', 'qqs', 'qks', 'qas', 'q7o', 'q8o', 'q9o', 'qto', 'qjo', 'qqo', 'qko', 'qao', 'j3s', 'j4s', 'j5s', 'j6s', 'j7s', 'j8s', 'j9s', 'jts', 'jjs', 'jqs', 'jks', 'jas', 'j8o', 'j9o', 'jto', 'jjo', 'jqo', 'jko', 'jao', 't5s', 't6s', 't7s', 't8s', 't9s', 'tts', 'tjs', 'tqs', 'tks', 'tas', 't8o', 't9o', 'tto', 'tjo', 'tqo', 'tko', 'tao', '95s', '96s', '97s', '98s', '99s', '9ts', '9js', '9qs', '9ks', '9as', '97o', '98o', '99o', '9to', '9jo', '9qo', '9ko', '9ao', '85s', '86s', '87s', '88s', '89s', '8ts', '8js', '8qs', '8ks', '8as', '74s', '75s', '76s', '77s', '78s', '79s', '7ts', '7js', '7qs', '7ks', '7as', '64s', '65s', '66s', '67s', '68s', '69s', '6ts', '6js', '6qs', '6ks', '6as', '53s', '54s', '55s', '56s', '57s', '58s', '59s', '5ts', '5js', '5qs', '5ks', '5as', '87o']\n159\n"
     ]
    }
   ],
   "source": [
    "BB=10\n",
    "position=\"sb\"\n",
    "\n",
    "\n",
    "answer = give_answer(df, BB, position)\n",
    "print(answer)\n",
    "print(len(answer))\n"
   ]
  },
  {
   "cell_type": "code",
   "execution_count": 20,
   "metadata": {},
   "outputs": [
    {
     "output_type": "stream",
     "name": "stdout",
     "text": [
      "['22', '33', '44', '55', '66', '77', '88', '99', 'tt', 'jj', 'qq', 'kk', 'aa', 'k2o', 'k3o', 'k4o', 'k5o', 'k6o', 'k7o', 'k8o', 'k9o', 'kto', 'kjo', 'kqo', 'kko', 'kao', 'k2s', 'k3s', 'k4s', 'k5s', 'k6s', 'k7s', 'k8s', 'k9s', 'kts', 'kjs', 'kqs', 'kks', 'kas', 'q2s', 'q3s', 'q4s', 'q5s', 'q6s', 'q7s', 'q8s', 'q9s', 'qts', 'qjs', 'qqs', 'qks', 'qas', 'q7o', 'q8o', 'q9o', 'qto', 'qjo', 'qqo', 'qko', 'qao', 'j3s', 'j4s', 'j5s', 'j6s', 'j7s', 'j8s', 'j9s', 'jts', 'jjs', 'jqs', 'jks', 'jas', 'j8o', 'j9o', 'jto', 'jjo', 'jqo', 'jko', 'jao', 't5s', 't6s', 't7s', 't8s', 't9s', 'tts', 'tjs', 'tqs', 'tks', 'tas', 't8o', 't9o', 'tto', 'tjo', 'tqo', 'tko', 'tao', '95s', '96s', '97s', '98s', '99s', '9ts', '9js', '9qs', '9ks', '9as', '97o', '98o', '99o', '9to', '9jo', '9qo', '9ko', '9ao', '85s', '86s', '87s', '88s', '89s', '8ts', '8js', '8qs', '8ks', '8as', '74s', '75s', '76s', '77s', '78s', '79s', '7ts', '7js', '7qs', '7ks', '7as', '64s', '65s', '66s', '67s', '68s', '69s', '6ts', '6js', '6qs', '6ks', '6as', '53s', '54s', '55s', '56s', '57s', '58s', '59s', '5ts', '5js', '5qs', '5ks', '5as', '87o']\n",
      "159\n"
     ]
    }
   ],
   "source": [
    "answer = translate_answer(answer)\n",
    "print(answer)\n",
    "print(len(answer))"
   ]
  },
  {
   "cell_type": "code",
   "execution_count": 21,
   "metadata": {},
   "outputs": [
    {
     "output_type": "stream",
     "name": "stdout",
     "text": [
      "['22', '33', '44', '55', '66', '77', '88', '99', 'tt', 'jj', 'qq', 'kk', 'aa', 'k2o', 'k3o', 'k4o', 'k5o', 'k6o', 'k7o', 'k8o', 'k9o', 'kto', 'kjo', 'kqo', 'kko', 'kao', 'k2s', 'k3s', 'k4s', 'k5s', 'k6s', 'k7s', 'k8s', 'k9s', 'kts', 'kjs', 'kqs', 'kks', 'kas', 'q2s', 'q3s', 'q4s', 'q5s', 'q6s', 'q7s', 'q8s', 'q9s', 'qts', 'qjs', 'qqs', 'qks', 'qas', 'q7o', 'q8o', 'q9o', 'qto', 'qjo', 'qqo', 'qko', 'qao', 'j3s', 'j4s', 'j5s', 'j6s', 'j7s', 'j8s', 'j9s', 'jts', 'jjs', 'jqs', 'jks', 'jas', 'j8o', 'j9o', 'jto', 'jjo', 'jqo', 'jko', 'jao', 't5s', 't6s', 't7s', 't8s', 't9s', 'tts', 'tjs', 'tqs', 'tks', 'tas', 't8o', 't9o', 'tto', 'tjo', 'tqo', 'tko', 'tao', '95s', '96s', '97s', '98s', '99s', '9ts', '9js', '9qs', '9ks', '9as', '97o', '98o', '99o', '9to', '9jo', '9qo', '9ko', '9ao', '85s', '86s', '87s', '88s', '89s', '8ts', '8js', '8qs', '8ks', '8as', '74s', '75s', '76s', '77s', '78s', '79s', '7ts', '7js', '7qs', '7ks', '7as', '64s', '65s', '66s', '67s', '68s', '69s', '6ts', '6js', '6qs', '6ks', '6as', '53s', '54s', '55s', '56s', '57s', '58s', '59s', '5ts', '5js', '5qs', '5ks', '5as', '87o']\n",
      "159\n"
     ]
    }
   ],
   "source": [
    "print(answer)\n",
    "print(len(answer))"
   ]
  },
  {
   "cell_type": "code",
   "execution_count": 22,
   "metadata": {},
   "outputs": [
    {
     "output_type": "execute_result",
     "data": {
      "text/plain": [
       "True"
      ]
     },
     "metadata": {},
     "execution_count": 22
    }
   ],
   "source": [
    "hand in answer"
   ]
  },
  {
   "cell_type": "code",
   "execution_count": 23,
   "metadata": {},
   "outputs": [
    {
     "output_type": "stream",
     "name": "stdout",
     "text": [
      "['jco', '5co'] --> j5s\n['22+', 'kx+', 'q2s+', 'q7o+', 'j3s+', 'j8o+', 't5s+', 't8o+', '95s+', '97o+', '85s+', '87o', '74s+', '64s+', '53s+']\ndo you all in, answer is True\n"
     ]
    }
   ],
   "source": [
    "BB=10\n",
    "position=\"sb\"\n",
    "\n",
    "########################\n",
    "\n",
    "# hand\n",
    "hand_1 = pickup()\n",
    "hand_2 = translate_hand(hand_1)\n",
    "print(f\"{hand_1} --> {hand_2}\")\n",
    "\n",
    "# answer\n",
    "answer_1 = find_from_df(df, BB, position)\n",
    "answer_2 = translate_answer(answer_1)\n",
    "print(answer_1)\n",
    "\n",
    "# final\n",
    "# ---------------------\n",
    "print(f\"do you all in, answer is {hand_2 in answer_2}\")"
   ]
  },
  {
   "cell_type": "code",
   "execution_count": 24,
   "metadata": {},
   "outputs": [
    {
     "output_type": "stream",
     "name": "stdout",
     "text": [
      "['22+', 'kx+', 'q2s+', 'q7o+', 'j3s+', 'j8o+', 't5s+', 't8o+', '95s+', '97o+', '85s+', '87o', '74s+', '64s+', '53s+']\ndo you all in, answer is True\n"
     ]
    }
   ],
   "source": [
    "hand_2 = \"k8o\"\n",
    "\n",
    "# answer\n",
    "answer_1 = find_from_df(df, BB, position)\n",
    "answer_2 = translate_answer(answer_1)\n",
    "print(answer_1)\n",
    "\n",
    "# final\n",
    "# ---------------------\n",
    "print(f\"do you all in, answer is {hand_2 in answer_2}\")"
   ]
  },
  {
   "cell_type": "code",
   "execution_count": null,
   "metadata": {},
   "outputs": [],
   "source": []
  },
  {
   "cell_type": "code",
   "execution_count": null,
   "metadata": {},
   "outputs": [],
   "source": []
  },
  {
   "cell_type": "code",
   "execution_count": 25,
   "metadata": {},
   "outputs": [
    {
     "output_type": "execute_result",
     "data": {
      "text/plain": [
       "['qq', 'kk', 'aa', 'aq', 'ak', 'aa', 'jto']"
      ]
     },
     "metadata": {},
     "execution_count": 25
    }
   ],
   "source": [
    "flatten([['qq', 'kk', 'aa'], ['aq', 'ak', 'aa'], 'jto'])"
   ]
  },
  {
   "cell_type": "code",
   "execution_count": 26,
   "metadata": {},
   "outputs": [
    {
     "output_type": "execute_result",
     "data": {
      "text/plain": [
       "['22',\n",
       " '33',\n",
       " '44',\n",
       " '55',\n",
       " '66',\n",
       " '77',\n",
       " '88',\n",
       " '99',\n",
       " 'tt',\n",
       " 'jj',\n",
       " 'qq',\n",
       " 'kk',\n",
       " 'aa',\n",
       " 'k2o',\n",
       " 'k3o',\n",
       " 'k4o',\n",
       " 'k5o',\n",
       " 'k6o',\n",
       " 'k7o',\n",
       " 'k8o',\n",
       " 'k9o',\n",
       " 'kto',\n",
       " 'kjo',\n",
       " 'kqo',\n",
       " 'kko',\n",
       " 'kao',\n",
       " 'k2s',\n",
       " 'k3s',\n",
       " 'k4s',\n",
       " 'k5s',\n",
       " 'k6s',\n",
       " 'k7s',\n",
       " 'k8s',\n",
       " 'k9s',\n",
       " 'kts',\n",
       " 'kjs',\n",
       " 'kqs',\n",
       " 'kks',\n",
       " 'kas',\n",
       " 'q2s',\n",
       " 'q3s',\n",
       " 'q4s',\n",
       " 'q5s',\n",
       " 'q6s',\n",
       " 'q7s',\n",
       " 'q8s',\n",
       " 'q9s',\n",
       " 'qts',\n",
       " 'qjs',\n",
       " 'qqs',\n",
       " 'qks',\n",
       " 'qas',\n",
       " 'q7o',\n",
       " 'q8o',\n",
       " 'q9o',\n",
       " 'qto',\n",
       " 'qjo',\n",
       " 'qqo',\n",
       " 'qko',\n",
       " 'qao',\n",
       " 'j3s',\n",
       " 'j4s',\n",
       " 'j5s',\n",
       " 'j6s',\n",
       " 'j7s',\n",
       " 'j8s',\n",
       " 'j9s',\n",
       " 'jts',\n",
       " 'jjs',\n",
       " 'jqs',\n",
       " 'jks',\n",
       " 'jas',\n",
       " 'j8o',\n",
       " 'j9o',\n",
       " 'jto',\n",
       " 'jjo',\n",
       " 'jqo',\n",
       " 'jko',\n",
       " 'jao',\n",
       " 't5s',\n",
       " 't6s',\n",
       " 't7s',\n",
       " 't8s',\n",
       " 't9s',\n",
       " 'tts',\n",
       " 'tjs',\n",
       " 'tqs',\n",
       " 'tks',\n",
       " 'tas',\n",
       " 't8o',\n",
       " 't9o',\n",
       " 'tto',\n",
       " 'tjo',\n",
       " 'tqo',\n",
       " 'tko',\n",
       " 'tao',\n",
       " '95s',\n",
       " '96s',\n",
       " '97s',\n",
       " '98s',\n",
       " '99s',\n",
       " '9ts',\n",
       " '9js',\n",
       " '9qs',\n",
       " '9ks',\n",
       " '9as',\n",
       " '97o',\n",
       " '98o',\n",
       " '99o',\n",
       " '9to',\n",
       " '9jo',\n",
       " '9qo',\n",
       " '9ko',\n",
       " '9ao',\n",
       " '85s',\n",
       " '86s',\n",
       " '87s',\n",
       " '88s',\n",
       " '89s',\n",
       " '8ts',\n",
       " '8js',\n",
       " '8qs',\n",
       " '8ks',\n",
       " '8as',\n",
       " '74s',\n",
       " '75s',\n",
       " '76s',\n",
       " '77s',\n",
       " '78s',\n",
       " '79s',\n",
       " '7ts',\n",
       " '7js',\n",
       " '7qs',\n",
       " '7ks',\n",
       " '7as',\n",
       " '64s',\n",
       " '65s',\n",
       " '66s',\n",
       " '67s',\n",
       " '68s',\n",
       " '69s',\n",
       " '6ts',\n",
       " '6js',\n",
       " '6qs',\n",
       " '6ks',\n",
       " '6as',\n",
       " '53s',\n",
       " '54s',\n",
       " '55s',\n",
       " '56s',\n",
       " '57s',\n",
       " '58s',\n",
       " '59s',\n",
       " '5ts',\n",
       " '5js',\n",
       " '5qs',\n",
       " '5ks',\n",
       " '5as',\n",
       " '87o']"
      ]
     },
     "metadata": {},
     "execution_count": 26
    }
   ],
   "source": [
    "translate_answer(answer)"
   ]
  },
  {
   "cell_type": "code",
   "execution_count": 27,
   "metadata": {},
   "outputs": [
    {
     "output_type": "execute_result",
     "data": {
      "text/plain": [
       "['kqo', 'kko', 'kao', 'kqs', 'kks', 'kas', 'aqs', 'aks', 'aas', 'jto']"
      ]
     },
     "metadata": {},
     "execution_count": 27
    }
   ],
   "source": [
    "translate_answer([\"kq+\", \"aqs+\", \"jto\"])"
   ]
  },
  {
   "cell_type": "code",
   "execution_count": null,
   "metadata": {},
   "outputs": [],
   "source": []
  }
 ],
 "metadata": {
  "kernelspec": {
   "name": "python3",
   "display_name": "Python 3",
   "language": "python"
  }
 },
 "nbformat": 4,
 "nbformat_minor": 5
}